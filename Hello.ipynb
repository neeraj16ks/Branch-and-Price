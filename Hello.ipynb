{
 "cells": [
  {
   "cell_type": "code",
   "execution_count": 1,
   "id": "78cb1f2f",
   "metadata": {},
   "outputs": [
    {
     "name": "stdout",
     "output_type": "stream",
     "text": [
      "Hello my name is neeraj\n"
     ]
    }
   ],
   "source": [
    "print(\"Hello my name is neeraj\")"
   ]
  },
  {
   "cell_type": "code",
   "execution_count": 3,
   "id": "07ad0706",
   "metadata": {},
   "outputs": [
    {
     "name": "stdout",
     "output_type": "stream",
     "text": [
      "enter value\n",
      "2\n",
      "I am neeraj\n"
     ]
    }
   ],
   "source": [
    "print(\"enter value\")\n",
    "a=input()\n",
    "if a==1:\n",
    "    print(\"I am  dheera\")\n",
    "else:\n",
    "    print(\"I am neeraj\")"
   ]
  },
  {
   "cell_type": "code",
   "execution_count": null,
   "id": "f4b4e31f",
   "metadata": {},
   "outputs": [],
   "source": []
  }
 ],
 "metadata": {
  "kernelspec": {
   "display_name": "Python 3 (ipykernel)",
   "language": "python",
   "name": "python3"
  },
  "language_info": {
   "codemirror_mode": {
    "name": "ipython",
    "version": 3
   },
   "file_extension": ".py",
   "mimetype": "text/x-python",
   "name": "python",
   "nbconvert_exporter": "python",
   "pygments_lexer": "ipython3",
   "version": "3.9.7"
  }
 },
 "nbformat": 4,
 "nbformat_minor": 5
}
